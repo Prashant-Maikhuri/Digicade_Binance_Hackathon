{
  "nbformat": 4,
  "nbformat_minor": 0,
  "metadata": {
    "kernelspec": {
      "display_name": "Python 3",
      "language": "python",
      "name": "python3"
    },
    "language_info": {
      "codemirror_mode": {
        "name": "ipython",
        "version": 3
      },
      "file_extension": ".py",
      "mimetype": "text/x-python",
      "name": "python",
      "nbconvert_exporter": "python",
      "pygments_lexer": "ipython3",
      "version": "3.8.5"
    },
    "colab": {
      "name": "DIGICADE MATCHING ALGORITHM",
      "provenance": [],
      "include_colab_link": true
    }
  },
  "cells": [
    {
      "cell_type": "markdown",
      "metadata": {
        "id": "view-in-github",
        "colab_type": "text"
      },
      "source": [
        "<a href=\"https://colab.research.google.com/github/Prashant-Maikhuri/Digicade_Binance_Hackathon/blob/main/DIGICADE_MATCHING_ALGORITHM.ipynb\" target=\"_parent\"><img src=\"https://colab.research.google.com/assets/colab-badge.svg\" alt=\"Open In Colab\"/></a>"
      ]
    },
    {
      "cell_type": "code",
      "metadata": {
        "id": "Ffp6GNTlxpg6"
      },
      "source": [
        "import numpy as np\n",
        "import tensorflow as tf\n",
        "from tensorflow.keras.layers import Input,Dense,LSTM\n",
        "from tensorflow.keras.models import Model\n",
        "import matplotlib.pyplot as plt\n",
        "from sklearn.preprocessing import StandardScaler\n",
        "import pandas as pd\n",
        "from tensorflow.keras.optimizers import Adam\n",
        "import random"
      ],
      "execution_count": null,
      "outputs": []
    },
    {
      "cell_type": "code",
      "metadata": {
        "id": "iyNTGU7pzUgj"
      },
      "source": [
        ""
      ],
      "execution_count": null,
      "outputs": []
    },
    {
      "cell_type": "code",
      "metadata": {
        "colab": {
          "base_uri": "https://localhost:8080/"
        },
        "id": "P03nPM5lxphM",
        "outputId": "458650bc-cd5c-4914-d245-67fb0910d0d9"
      },
      "source": [
        "df=pd.read_excel(\"/content/Game.xlsx\");\n",
        "bt=pd.DataFrame(df,columns=['Bitcoin won/lost'])\n",
        "list1=[]\n",
        "listbr=[]\n",
        "x=np.arange(-5,5,1)\n",
        "for bt in range(10000):\n",
        "    value=random.choice(x)\n",
        "    list1.append(value)\n",
        "\n",
        "for bt in list1:\n",
        "    a=bt+5\n",
        "    listbr.append(a)\n",
        "\n",
        "df[\"Bitcoin won/lost\"]=list1\n",
        "print(df)"
      ],
      "execution_count": null,
      "outputs": [
        {
          "output_type": "stream",
          "text": [
            "      Bitcoin won/lost Difficulty Opponent Rating\n",
            "0                   -3        NaN      NaN    NaN\n",
            "1                   -2        NaN      NaN    NaN\n",
            "2                   -3        NaN      NaN    NaN\n",
            "3                    0        NaN      NaN    NaN\n",
            "4                    3        NaN      NaN    NaN\n",
            "...                ...        ...      ...    ...\n",
            "9995                -2        NaN      NaN    NaN\n",
            "9996                -2        NaN      NaN    NaN\n",
            "9997                 0        NaN      NaN    NaN\n",
            "9998                -3        NaN      NaN    NaN\n",
            "9999                -1        NaN      NaN    NaN\n",
            "\n",
            "[10000 rows x 4 columns]\n"
          ],
          "name": "stdout"
        }
      ]
    },
    {
      "cell_type": "code",
      "metadata": {
        "colab": {
          "base_uri": "https://localhost:8080/"
        },
        "id": "Gpmopv8wxphO",
        "outputId": "3d38eace-157b-4c43-dfd4-0e068264f4e3"
      },
      "source": [
        "diff=pd.DataFrame(df,columns=['Difficulty'])\n",
        "list2=[]\n",
        "listdif=[]\n",
        "x=np.arange(1,6,1)\n",
        "for diff in range(10000):\n",
        "    value=random.choice(x)\n",
        "    list2.append(value)\n",
        "\n",
        "for diff in list2:\n",
        "    if(diff==1):\n",
        "        b=10\n",
        "    elif (diff==2):\n",
        "        b=random.choice([8,9])\n",
        "    elif(diff==3):\n",
        "        b=random.choice([6,7])\n",
        "    elif(diff==4):\n",
        "        b=random.choice([4,5])\n",
        "    elif(diff==5):\n",
        "        b=random.choice([2,3])\n",
        "    else:\n",
        "        b=1\n",
        "    listdif.append(b)\n",
        "\n",
        "df[\"Difficulty\"]=list2\n",
        "print(df)"
      ],
      "execution_count": null,
      "outputs": [
        {
          "output_type": "stream",
          "text": [
            "      Bitcoin won/lost  Difficulty Opponent Rating\n",
            "0                   -3           3      NaN    NaN\n",
            "1                   -2           3      NaN    NaN\n",
            "2                   -3           3      NaN    NaN\n",
            "3                    0           2      NaN    NaN\n",
            "4                    3           1      NaN    NaN\n",
            "...                ...         ...      ...    ...\n",
            "9995                -2           1      NaN    NaN\n",
            "9996                -2           5      NaN    NaN\n",
            "9997                 0           5      NaN    NaN\n",
            "9998                -3           1      NaN    NaN\n",
            "9999                -1           3      NaN    NaN\n",
            "\n",
            "[10000 rows x 4 columns]\n"
          ],
          "name": "stdout"
        }
      ]
    },
    {
      "cell_type": "code",
      "metadata": {
        "colab": {
          "base_uri": "https://localhost:8080/"
        },
        "id": "b19DsV6gxphP",
        "outputId": "d115e817-3cd5-43b2-eb9c-b6e774dc8d50"
      },
      "source": [
        "opp=pd.DataFrame(df,columns=['Opponent'])\n",
        "list3=[]\n",
        "x=np.arange(1,10,1)\n",
        "for opp in range(10000):\n",
        "    value=random.choice(x)\n",
        "    list3.append(value)\n",
        "\n",
        "df[\"Opponent\"]=list3\n",
        "print(df)"
      ],
      "execution_count": null,
      "outputs": [
        {
          "output_type": "stream",
          "text": [
            "      Bitcoin won/lost  Difficulty  Opponent Rating\n",
            "0                   -3           3         3    NaN\n",
            "1                   -2           3         1    NaN\n",
            "2                   -3           3         2    NaN\n",
            "3                    0           2         7    NaN\n",
            "4                    3           1         4    NaN\n",
            "...                ...         ...       ...    ...\n",
            "9995                -2           1         4    NaN\n",
            "9996                -2           5         4    NaN\n",
            "9997                 0           5         6    NaN\n",
            "9998                -3           1         3    NaN\n",
            "9999                -1           3         1    NaN\n",
            "\n",
            "[10000 rows x 4 columns]\n"
          ],
          "name": "stdout"
        }
      ]
    },
    {
      "cell_type": "markdown",
      "metadata": {
        "id": "JBVXEsQbxphQ"
      },
      "source": [
        ""
      ]
    },
    {
      "cell_type": "code",
      "metadata": {
        "colab": {
          "base_uri": "https://localhost:8080/",
          "height": 415
        },
        "id": "w-tpqRdjxphQ",
        "outputId": "339f7a41-0e7d-4d74-efe5-ee53a63525f8"
      },
      "source": [
        "df.drop(columns=[\"Rating\"])"
      ],
      "execution_count": null,
      "outputs": [
        {
          "output_type": "execute_result",
          "data": {
            "text/html": [
              "<div>\n",
              "<style scoped>\n",
              "    .dataframe tbody tr th:only-of-type {\n",
              "        vertical-align: middle;\n",
              "    }\n",
              "\n",
              "    .dataframe tbody tr th {\n",
              "        vertical-align: top;\n",
              "    }\n",
              "\n",
              "    .dataframe thead th {\n",
              "        text-align: right;\n",
              "    }\n",
              "</style>\n",
              "<table border=\"1\" class=\"dataframe\">\n",
              "  <thead>\n",
              "    <tr style=\"text-align: right;\">\n",
              "      <th></th>\n",
              "      <th>Bitcoin won/lost</th>\n",
              "      <th>Difficulty</th>\n",
              "      <th>Opponent</th>\n",
              "    </tr>\n",
              "  </thead>\n",
              "  <tbody>\n",
              "    <tr>\n",
              "      <th>0</th>\n",
              "      <td>-3</td>\n",
              "      <td>3</td>\n",
              "      <td>3</td>\n",
              "    </tr>\n",
              "    <tr>\n",
              "      <th>1</th>\n",
              "      <td>-2</td>\n",
              "      <td>3</td>\n",
              "      <td>1</td>\n",
              "    </tr>\n",
              "    <tr>\n",
              "      <th>2</th>\n",
              "      <td>-3</td>\n",
              "      <td>3</td>\n",
              "      <td>2</td>\n",
              "    </tr>\n",
              "    <tr>\n",
              "      <th>3</th>\n",
              "      <td>0</td>\n",
              "      <td>2</td>\n",
              "      <td>7</td>\n",
              "    </tr>\n",
              "    <tr>\n",
              "      <th>4</th>\n",
              "      <td>3</td>\n",
              "      <td>1</td>\n",
              "      <td>4</td>\n",
              "    </tr>\n",
              "    <tr>\n",
              "      <th>...</th>\n",
              "      <td>...</td>\n",
              "      <td>...</td>\n",
              "      <td>...</td>\n",
              "    </tr>\n",
              "    <tr>\n",
              "      <th>9995</th>\n",
              "      <td>-2</td>\n",
              "      <td>1</td>\n",
              "      <td>4</td>\n",
              "    </tr>\n",
              "    <tr>\n",
              "      <th>9996</th>\n",
              "      <td>-2</td>\n",
              "      <td>5</td>\n",
              "      <td>4</td>\n",
              "    </tr>\n",
              "    <tr>\n",
              "      <th>9997</th>\n",
              "      <td>0</td>\n",
              "      <td>5</td>\n",
              "      <td>6</td>\n",
              "    </tr>\n",
              "    <tr>\n",
              "      <th>9998</th>\n",
              "      <td>-3</td>\n",
              "      <td>1</td>\n",
              "      <td>3</td>\n",
              "    </tr>\n",
              "    <tr>\n",
              "      <th>9999</th>\n",
              "      <td>-1</td>\n",
              "      <td>3</td>\n",
              "      <td>1</td>\n",
              "    </tr>\n",
              "  </tbody>\n",
              "</table>\n",
              "<p>10000 rows × 3 columns</p>\n",
              "</div>"
            ],
            "text/plain": [
              "      Bitcoin won/lost  Difficulty  Opponent\n",
              "0                   -3           3         3\n",
              "1                   -2           3         1\n",
              "2                   -3           3         2\n",
              "3                    0           2         7\n",
              "4                    3           1         4\n",
              "...                ...         ...       ...\n",
              "9995                -2           1         4\n",
              "9996                -2           5         4\n",
              "9997                 0           5         6\n",
              "9998                -3           1         3\n",
              "9999                -1           3         1\n",
              "\n",
              "[10000 rows x 3 columns]"
            ]
          },
          "metadata": {
            "tags": []
          },
          "execution_count": 5
        }
      ]
    },
    {
      "cell_type": "code",
      "metadata": {
        "colab": {
          "base_uri": "https://localhost:8080/"
        },
        "id": "Ar4Yjc1zxphR",
        "outputId": "5f110edd-663b-4d8b-88be-ad3a529cba73"
      },
      "source": [
        "df[\"Bitcoin Rating\"]=listbr\n",
        "df[\"Difficulty Rating\"]=listdif\n",
        "print(df)"
      ],
      "execution_count": null,
      "outputs": [
        {
          "output_type": "stream",
          "text": [
            "      Bitcoin won/lost  Difficulty  ...  Bitcoin Rating Difficulty Rating\n",
            "0                   -3           3  ...               2                 6\n",
            "1                   -2           3  ...               3                 6\n",
            "2                   -3           3  ...               2                 6\n",
            "3                    0           2  ...               5                 8\n",
            "4                    3           1  ...               8                10\n",
            "...                ...         ...  ...             ...               ...\n",
            "9995                -2           1  ...               3                10\n",
            "9996                -2           5  ...               3                 2\n",
            "9997                 0           5  ...               5                 3\n",
            "9998                -3           1  ...               2                10\n",
            "9999                -1           3  ...               4                 6\n",
            "\n",
            "[10000 rows x 6 columns]\n"
          ],
          "name": "stdout"
        }
      ]
    },
    {
      "cell_type": "code",
      "metadata": {
        "id": "wuEpOa_SxphS"
      },
      "source": [
        "\n",
        "\n",
        "\n",
        "    \n",
        "    \n",
        "\n"
      ],
      "execution_count": null,
      "outputs": []
    },
    {
      "cell_type": "code",
      "metadata": {
        "colab": {
          "base_uri": "https://localhost:8080/",
          "height": 202
        },
        "id": "UoiymPHHxphT",
        "outputId": "bddecb28-b9b3-477d-9e48-21ce285faf35"
      },
      "source": [
        "list4=[]\n",
        "for x in range(10000):\n",
        "    u=df[\"Bitcoin Rating\"][x]+df[\"Difficulty Rating\"][x]+df[\"Opponent\"][x]\n",
        "    avg=int(u/3);\n",
        "    list4.append(avg)\n",
        "df[\"Rating\"]=list4\n",
        "df.head()"
      ],
      "execution_count": null,
      "outputs": [
        {
          "output_type": "execute_result",
          "data": {
            "text/html": [
              "<div>\n",
              "<style scoped>\n",
              "    .dataframe tbody tr th:only-of-type {\n",
              "        vertical-align: middle;\n",
              "    }\n",
              "\n",
              "    .dataframe tbody tr th {\n",
              "        vertical-align: top;\n",
              "    }\n",
              "\n",
              "    .dataframe thead th {\n",
              "        text-align: right;\n",
              "    }\n",
              "</style>\n",
              "<table border=\"1\" class=\"dataframe\">\n",
              "  <thead>\n",
              "    <tr style=\"text-align: right;\">\n",
              "      <th></th>\n",
              "      <th>Bitcoin won/lost</th>\n",
              "      <th>Difficulty</th>\n",
              "      <th>Opponent</th>\n",
              "      <th>Rating</th>\n",
              "      <th>Bitcoin Rating</th>\n",
              "      <th>Difficulty Rating</th>\n",
              "    </tr>\n",
              "  </thead>\n",
              "  <tbody>\n",
              "    <tr>\n",
              "      <th>0</th>\n",
              "      <td>-3</td>\n",
              "      <td>3</td>\n",
              "      <td>3</td>\n",
              "      <td>3</td>\n",
              "      <td>2</td>\n",
              "      <td>6</td>\n",
              "    </tr>\n",
              "    <tr>\n",
              "      <th>1</th>\n",
              "      <td>-2</td>\n",
              "      <td>3</td>\n",
              "      <td>1</td>\n",
              "      <td>3</td>\n",
              "      <td>3</td>\n",
              "      <td>6</td>\n",
              "    </tr>\n",
              "    <tr>\n",
              "      <th>2</th>\n",
              "      <td>-3</td>\n",
              "      <td>3</td>\n",
              "      <td>2</td>\n",
              "      <td>3</td>\n",
              "      <td>2</td>\n",
              "      <td>6</td>\n",
              "    </tr>\n",
              "    <tr>\n",
              "      <th>3</th>\n",
              "      <td>0</td>\n",
              "      <td>2</td>\n",
              "      <td>7</td>\n",
              "      <td>6</td>\n",
              "      <td>5</td>\n",
              "      <td>8</td>\n",
              "    </tr>\n",
              "    <tr>\n",
              "      <th>4</th>\n",
              "      <td>3</td>\n",
              "      <td>1</td>\n",
              "      <td>4</td>\n",
              "      <td>7</td>\n",
              "      <td>8</td>\n",
              "      <td>10</td>\n",
              "    </tr>\n",
              "  </tbody>\n",
              "</table>\n",
              "</div>"
            ],
            "text/plain": [
              "   Bitcoin won/lost  Difficulty  ...  Bitcoin Rating  Difficulty Rating\n",
              "0                -3           3  ...               2                  6\n",
              "1                -2           3  ...               3                  6\n",
              "2                -3           3  ...               2                  6\n",
              "3                 0           2  ...               5                  8\n",
              "4                 3           1  ...               8                 10\n",
              "\n",
              "[5 rows x 6 columns]"
            ]
          },
          "metadata": {
            "tags": []
          },
          "execution_count": 7
        }
      ]
    },
    {
      "cell_type": "code",
      "metadata": {
        "colab": {
          "base_uri": "https://localhost:8080/"
        },
        "id": "9jG59uHk1iGY",
        "outputId": "39b6a9a4-63c9-4c59-d745-2410ebe2ebde"
      },
      "source": [
        "i=np.empty([10000,3])\r\n",
        "for p in range(10000):\r\n",
        "  i[p,:]=df.iloc[p,0:3]\r\n",
        "\r\n",
        "i.shape\r\n",
        "\r\n",
        "\r\n"
      ],
      "execution_count": null,
      "outputs": [
        {
          "output_type": "execute_result",
          "data": {
            "text/plain": [
              "(10000, 3)"
            ]
          },
          "metadata": {
            "tags": []
          },
          "execution_count": 8
        }
      ]
    },
    {
      "cell_type": "code",
      "metadata": {
        "colab": {
          "base_uri": "https://localhost:8080/"
        },
        "id": "LQVIOigVxphT",
        "outputId": "ce046cc6-58cc-4ce1-bd89-06f137bbb5c9"
      },
      "source": [
        "xt=np.zeros((9990,10,3))\n",
        "for w in range(9990):\n",
        "    xt[w,:,:]=i[w:w+10]\n",
        "\n",
        "  \n",
        "xt\n"
      ],
      "execution_count": null,
      "outputs": [
        {
          "output_type": "execute_result",
          "data": {
            "text/plain": [
              "array([[[-3.,  3.,  3.],\n",
              "        [-2.,  3.,  1.],\n",
              "        [-3.,  3.,  2.],\n",
              "        ...,\n",
              "        [ 2.,  2.,  3.],\n",
              "        [ 1.,  5.,  9.],\n",
              "        [ 0.,  3.,  6.]],\n",
              "\n",
              "       [[-2.,  3.,  1.],\n",
              "        [-3.,  3.,  2.],\n",
              "        [ 0.,  2.,  7.],\n",
              "        ...,\n",
              "        [ 1.,  5.,  9.],\n",
              "        [ 0.,  3.,  6.],\n",
              "        [ 2.,  3.,  1.]],\n",
              "\n",
              "       [[-3.,  3.,  2.],\n",
              "        [ 0.,  2.,  7.],\n",
              "        [ 3.,  1.,  4.],\n",
              "        ...,\n",
              "        [ 0.,  3.,  6.],\n",
              "        [ 2.,  3.,  1.],\n",
              "        [ 3.,  4.,  2.]],\n",
              "\n",
              "       ...,\n",
              "\n",
              "       [[ 4.,  2.,  5.],\n",
              "        [ 0.,  5.,  5.],\n",
              "        [ 1.,  4.,  2.],\n",
              "        ...,\n",
              "        [ 0.,  2.,  2.],\n",
              "        [-2.,  1.,  4.],\n",
              "        [-2.,  5.,  4.]],\n",
              "\n",
              "       [[ 0.,  5.,  5.],\n",
              "        [ 1.,  4.,  2.],\n",
              "        [-1.,  3.,  2.],\n",
              "        ...,\n",
              "        [-2.,  1.,  4.],\n",
              "        [-2.,  5.,  4.],\n",
              "        [ 0.,  5.,  6.]],\n",
              "\n",
              "       [[ 1.,  4.,  2.],\n",
              "        [-1.,  3.,  2.],\n",
              "        [-3.,  5.,  3.],\n",
              "        ...,\n",
              "        [-2.,  5.,  4.],\n",
              "        [ 0.,  5.,  6.],\n",
              "        [-3.,  1.,  3.]]])"
            ]
          },
          "metadata": {
            "tags": []
          },
          "execution_count": 9
        }
      ]
    },
    {
      "cell_type": "code",
      "metadata": {
        "id": "RGXhRmW2tDhx"
      },
      "source": [
        ""
      ],
      "execution_count": null,
      "outputs": []
    },
    {
      "cell_type": "code",
      "metadata": {
        "colab": {
          "base_uri": "https://localhost:8080/"
        },
        "id": "K97lhB6oziCL",
        "outputId": "0586cd01-6403-4a31-8942-43742d4488e0"
      },
      "source": [
        " a=np.array(df.iloc[1,0:3])\r\n",
        "(df.iloc[1,0:3].sum())//10"
      ],
      "execution_count": null,
      "outputs": [
        {
          "output_type": "execute_result",
          "data": {
            "text/plain": [
              "0"
            ]
          },
          "metadata": {
            "tags": []
          },
          "execution_count": 10
        }
      ]
    },
    {
      "cell_type": "code",
      "metadata": {
        "id": "lQ4yY8z_xphU",
        "colab": {
          "base_uri": "https://localhost:8080/"
        },
        "outputId": "1f296c49-1bbc-488c-e7cc-4a1e87d45e54"
      },
      "source": [
        "yn=np.zeros((9990,1))\r\n",
        "for e in range(9990): \r\n",
        "  yn[e,:]=(df[\"Rating\"].iloc[e:e+10].sum())//10\r\n",
        "y=yn.flatten()  \r\n",
        "#y=np.expand_dims(y,-1)\r\n",
        "y=np.array(tf.one_hot(y,10))\r\n",
        "y.shape\r\n",
        "\r\n",
        "\r\n"
      ],
      "execution_count": null,
      "outputs": [
        {
          "output_type": "execute_result",
          "data": {
            "text/plain": [
              "(9990, 10)"
            ]
          },
          "metadata": {
            "tags": []
          },
          "execution_count": 11
        }
      ]
    },
    {
      "cell_type": "code",
      "metadata": {
        "colab": {
          "base_uri": "https://localhost:8080/"
        },
        "id": "g4vMUMzPepJn",
        "outputId": "983711ed-e209-4cc7-ee61-638e18c17471"
      },
      "source": [
        "df[\"Rating\"].iloc[0:4]"
      ],
      "execution_count": null,
      "outputs": [
        {
          "output_type": "execute_result",
          "data": {
            "text/plain": [
              "0    3\n",
              "1    3\n",
              "2    3\n",
              "3    6\n",
              "Name: Rating, dtype: int64"
            ]
          },
          "metadata": {
            "tags": []
          },
          "execution_count": 12
        }
      ]
    },
    {
      "cell_type": "code",
      "metadata": {
        "id": "Gnb67tYggoez"
      },
      "source": [
        "i=Input(shape=(10,3))\r\n",
        "x=LSTM(128,return_sequences=True)(i)\r\n",
        "x=LSTM(64,return_sequences=True)(x)\r\n",
        "x=LSTM(32)(x)\r\n",
        "x=Dense(10)(x)\r\n",
        "model=Model(i,x)\r\n"
      ],
      "execution_count": null,
      "outputs": []
    },
    {
      "cell_type": "code",
      "metadata": {
        "id": "ipQRLYCEkA98"
      },
      "source": [
        "model.compile(optimizer=\"adam\",loss=\"binary_crossentropy\",metrics=[\"accuracy\"])"
      ],
      "execution_count": null,
      "outputs": []
    },
    {
      "cell_type": "code",
      "metadata": {
        "colab": {
          "base_uri": "https://localhost:8080/"
        },
        "id": "3HOmLHRUkjsO",
        "outputId": "9e5c26c2-f2c6-4151-a379-b49b91fde0fe"
      },
      "source": [
        "r=model.fit(xt,y,epochs=10)"
      ],
      "execution_count": null,
      "outputs": [
        {
          "output_type": "stream",
          "text": [
            "Epoch 1/10\n",
            "313/313 [==============================] - 10s 20ms/step - loss: 0.2079 - accuracy: 0.7536\n",
            "Epoch 2/10\n",
            "313/313 [==============================] - 6s 19ms/step - loss: 0.3055 - accuracy: 0.7634\n",
            "Epoch 3/10\n",
            "313/313 [==============================] - 6s 19ms/step - loss: 0.0978 - accuracy: 0.8214\n",
            "Epoch 4/10\n",
            "313/313 [==============================] - 6s 19ms/step - loss: 0.0741 - accuracy: 0.8619\n",
            "Epoch 5/10\n",
            "313/313 [==============================] - 6s 20ms/step - loss: 0.0856 - accuracy: 0.8636\n",
            "Epoch 6/10\n",
            "313/313 [==============================] - 6s 19ms/step - loss: 0.0911 - accuracy: 0.8836\n",
            "Epoch 7/10\n",
            "313/313 [==============================] - 6s 20ms/step - loss: 0.6916 - accuracy: 0.5509\n",
            "Epoch 8/10\n",
            "313/313 [==============================] - 6s 19ms/step - loss: 0.0687 - accuracy: 0.8700\n",
            "Epoch 9/10\n",
            "313/313 [==============================] - 6s 19ms/step - loss: 0.0530 - accuracy: 0.8940\n",
            "Epoch 10/10\n",
            "313/313 [==============================] - 6s 19ms/step - loss: 0.0565 - accuracy: 0.8986\n"
          ],
          "name": "stdout"
        }
      ]
    },
    {
      "cell_type": "code",
      "metadata": {
        "id": "Uiwnq5Yr7y5z"
      },
      "source": [
        ""
      ],
      "execution_count": null,
      "outputs": []
    }
  ]
}